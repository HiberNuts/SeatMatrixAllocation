{
 "cells": [
  {
   "cell_type": "code",
   "execution_count": 2,
   "metadata": {},
   "outputs": [
    {
     "data": {
      "text/plain": [
       "({'courseName': {'label': 'MECHANICAL ENGINEERING (SS)', 'value': 'MF'},\n",
       "  'courseCode': 'MF',\n",
       "  'accredation': {'value': 'ACC', 'label': 'Accredited', 'disabled': True},\n",
       "  'intake': 55,\n",
       "  'Govt': 38,\n",
       "  'Surrender': 0,\n",
       "  'Management': 17,\n",
       "  'SWS': 38,\n",
       "  'Quota': 0.7,\n",
       "  'error': True},)"
      ]
     },
     "execution_count": 2,
     "metadata": {},
     "output_type": "execute_result"
    }
   ],
   "source": [
    "{\n",
    "    \"courseName\": {\n",
    "      \"label\": \"MECHANICAL ENGINEERING (SS)\",\n",
    "      \"value\": \"MF\"\n",
    "    },\n",
    "    \"courseCode\": \"MF\",\n",
    "    \"accredation\": {\n",
    "      \"value\": \"ACC\",\n",
    "      \"label\": \"Accredited\",\n",
    "      \"disabled\": True\n",
    "    },\n",
    "    \"intake\": 55,\n",
    "    \"Govt\": 38,\n",
    "    \"Surrender\": 0,\n",
    "    \"Management\": 17,\n",
    "    \"SWS\": 38,\n",
    "    \"Quota\": 0.7,\n",
    "    \"error\": True\n",
    "  },"
   ]
  }
 ],
 "metadata": {
  "kernelspec": {
   "display_name": "Python 3",
   "language": "python",
   "name": "python3"
  },
  "language_info": {
   "codemirror_mode": {
    "name": "ipython",
    "version": 3
   },
   "file_extension": ".py",
   "mimetype": "text/x-python",
   "name": "python",
   "nbconvert_exporter": "python",
   "pygments_lexer": "ipython3",
   "version": "3.11.3"
  },
  "orig_nbformat": 4
 },
 "nbformat": 4,
 "nbformat_minor": 2
}
